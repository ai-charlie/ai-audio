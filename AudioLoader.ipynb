{
 "cells": [
  {
   "cell_type": "code",
   "execution_count": null,
   "metadata": {},
   "outputs": [],
   "source": [
    "import torchaudio.datasets as datasets\n",
    "\n",
    "import os\n",
    "import os.path\n",
    "from typing import Any, Callable, cast, Dict, List, Optional, Tuple\n",
    "from typing import Union\n",
    "from PIL import Image\n",
    "\n",
    "\n",
    "def find_idx(directory: str) -> Tuple[List[str], Dict[str, int]]:\n",
    "    \"\"\"Finds the class folders in a dataset.\n",
    "\n",
    "    See :class:`DatasetFolder` for details.\n",
    "    \"\"\"\n",
    "    classes = sorted(entry.name for entry in os.scandir(\n",
    "        directory) if entry.is_dir())\n",
    "    if not classes:\n",
    "        raise FileNotFoundError(\n",
    "            f\"Couldn't find any class folder in {directory}.\")\n",
    "\n",
    "    idx_to_class = {i: cls_name for i, cls_name in enumerate(classes)}\n",
    "    return idx_to_class\n",
    "\n",
    "class AudioFolder(datasets.YESNO):\n",
    "    def __init__(\n",
    "        self,\n",
    "        root=\"/mnt/pci-0000:00:1f.2-ata-1-part1/ZLQ/Face/data/lfw-deepfunneled\",\n",
    "        idx_to_class=find_idx\n",
    "    ):\n",
    "        super().__init__(root)\n",
    "        self.imgs = self.samples\n",
    "        self.idx_to_class = idx_to_class(self.root)\n",
    "            \n",
    "audio_data = AudioFolder()\n",
    "image,classid=audio_data[10]\n",
    "classid,audio_data.idx_to_class[classid]"
   ]
  }
 ],
 "metadata": {
  "kernelspec": {
   "display_name": "Python 3.8.5 ('base')",
   "language": "python",
   "name": "python3"
  },
  "language_info": {
   "name": "python",
   "version": "3.8.5"
  },
  "orig_nbformat": 4,
  "vscode": {
   "interpreter": {
    "hash": "40d3a090f54c6569ab1632332b64b2c03c39dcf918b08424e98f38b5ae0af88f"
   }
  }
 },
 "nbformat": 4,
 "nbformat_minor": 2
}
